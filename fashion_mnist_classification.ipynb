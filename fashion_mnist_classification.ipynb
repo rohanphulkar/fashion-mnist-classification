{
  "nbformat": 4,
  "nbformat_minor": 0,
  "metadata": {
    "colab": {
      "provenance": []
    },
    "kernelspec": {
      "name": "python3",
      "display_name": "Python 3"
    },
    "language_info": {
      "name": "python"
    },
    "accelerator": "GPU",
    "gpuClass": "standard"
  },
  "cells": [
    {
      "cell_type": "code",
      "execution_count": 1,
      "metadata": {
        "id": "ue7XM86_bDmE"
      },
      "outputs": [],
      "source": [
        "# Import necessary libraries\n",
        "import tensorflow as tf\n",
        "from tensorflow import keras\n",
        "from tensorflow.keras import Sequential\n",
        "from tensorflow.keras.layers import Flatten, Dense"
      ]
    },
    {
      "cell_type": "code",
      "source": [
        "# Load Fashion MNIST dataset\n",
        "mnist = keras.datasets.fashion_mnist\n",
        "\n",
        "# Split dataset into training and testing data\n",
        "(X_train,y_train), (X_test,y_test) = mnist.load_data()"
      ],
      "metadata": {
        "id": "vkETBfp_bhu5",
        "colab": {
          "base_uri": "https://localhost:8080/"
        },
        "outputId": "cedb8b4f-3933-48ae-a142-0221bf2ea5e5"
      },
      "execution_count": 2,
      "outputs": [
        {
          "output_type": "stream",
          "name": "stdout",
          "text": [
            "Downloading data from https://storage.googleapis.com/tensorflow/tf-keras-datasets/train-labels-idx1-ubyte.gz\n",
            "29515/29515 [==============================] - 0s 5us/step\n",
            "Downloading data from https://storage.googleapis.com/tensorflow/tf-keras-datasets/train-images-idx3-ubyte.gz\n",
            "26421880/26421880 [==============================] - 2s 0us/step\n",
            "Downloading data from https://storage.googleapis.com/tensorflow/tf-keras-datasets/t10k-labels-idx1-ubyte.gz\n",
            "5148/5148 [==============================] - 0s 0us/step\n",
            "Downloading data from https://storage.googleapis.com/tensorflow/tf-keras-datasets/t10k-images-idx3-ubyte.gz\n",
            "4422102/4422102 [==============================] - 1s 0us/step\n"
          ]
        }
      ]
    },
    {
      "cell_type": "code",
      "source": [
        "# Define class names\n",
        "class_names = ['T-shirt/top','Trouser','Pullover','Dress','Coat','Sandal','Shirt','Sneaker','Bag','Ankle boot']"
      ],
      "metadata": {
        "id": "OIBRNO22byfn"
      },
      "execution_count": 3,
      "outputs": []
    },
    {
      "cell_type": "code",
      "source": [
        "# Normalize the data\n",
        "X_train = X_train/255.0\n",
        "X_test = X_test/255.0"
      ],
      "metadata": {
        "id": "H3o-ckXScAyY"
      },
      "execution_count": 4,
      "outputs": []
    },
    {
      "cell_type": "code",
      "source": [
        "# Define the model architecture\n",
        "model = Sequential([\n",
        "    Flatten(input_shape=(28,28)),\n",
        "    Dense(128,activation=\"relu\"),\n",
        "    Dense(10,activation=\"softmax\")\n",
        "])"
      ],
      "metadata": {
        "id": "EgMInURjcFPc"
      },
      "execution_count": 5,
      "outputs": []
    },
    {
      "cell_type": "code",
      "source": [
        "# Compile the model\n",
        "model.compile(optimizer=\"adam\",loss=\"sparse_categorical_crossentropy\",metrics=['accuracy'])"
      ],
      "metadata": {
        "id": "QxSX42eDcQNp"
      },
      "execution_count": 6,
      "outputs": []
    },
    {
      "cell_type": "code",
      "source": [
        "# Train the model\n",
        "history = model.fit(X_train,y_train,epochs=10,batch_size=100,validation_split=0.2)"
      ],
      "metadata": {
        "colab": {
          "base_uri": "https://localhost:8080/"
        },
        "id": "NhM8tEQ2cPiQ",
        "outputId": "af99d0d0-a927-4983-ac7b-ceef1d0fb3a2"
      },
      "execution_count": 7,
      "outputs": [
        {
          "output_type": "stream",
          "name": "stdout",
          "text": [
            "Epoch 1/10\n",
            "480/480 [==============================] - 8s 5ms/step - loss: 0.5609 - accuracy: 0.8077 - val_loss: 0.4383 - val_accuracy: 0.8443\n",
            "Epoch 2/10\n",
            "480/480 [==============================] - 1s 3ms/step - loss: 0.4085 - accuracy: 0.8552 - val_loss: 0.3889 - val_accuracy: 0.8595\n",
            "Epoch 3/10\n",
            "480/480 [==============================] - 2s 3ms/step - loss: 0.3647 - accuracy: 0.8700 - val_loss: 0.3799 - val_accuracy: 0.8636\n",
            "Epoch 4/10\n",
            "480/480 [==============================] - 1s 3ms/step - loss: 0.3432 - accuracy: 0.8762 - val_loss: 0.3556 - val_accuracy: 0.8720\n",
            "Epoch 5/10\n",
            "480/480 [==============================] - 2s 5ms/step - loss: 0.3217 - accuracy: 0.8826 - val_loss: 0.3339 - val_accuracy: 0.8797\n",
            "Epoch 6/10\n",
            "480/480 [==============================] - 2s 3ms/step - loss: 0.3021 - accuracy: 0.8911 - val_loss: 0.3440 - val_accuracy: 0.8738\n",
            "Epoch 7/10\n",
            "480/480 [==============================] - 1s 3ms/step - loss: 0.2894 - accuracy: 0.8948 - val_loss: 0.3302 - val_accuracy: 0.8790\n",
            "Epoch 8/10\n",
            "480/480 [==============================] - 2s 3ms/step - loss: 0.2783 - accuracy: 0.8970 - val_loss: 0.3326 - val_accuracy: 0.8769\n",
            "Epoch 9/10\n",
            "480/480 [==============================] - 2s 3ms/step - loss: 0.2701 - accuracy: 0.9017 - val_loss: 0.3292 - val_accuracy: 0.8829\n",
            "Epoch 10/10\n",
            "480/480 [==============================] - 1s 3ms/step - loss: 0.2575 - accuracy: 0.9062 - val_loss: 0.3278 - val_accuracy: 0.8832\n"
          ]
        }
      ]
    },
    {
      "cell_type": "code",
      "source": [
        "# Make predictions on test data\n",
        "y_pred = model.predict(X_test)"
      ],
      "metadata": {
        "colab": {
          "base_uri": "https://localhost:8080/"
        },
        "id": "ofAjhKOqdFNe",
        "outputId": "ca008643-2c6d-4d6b-e9f8-3d09e53d9bb6"
      },
      "execution_count": 8,
      "outputs": [
        {
          "output_type": "stream",
          "name": "stdout",
          "text": [
            "313/313 [==============================] - 1s 2ms/step\n"
          ]
        }
      ]
    },
    {
      "cell_type": "code",
      "source": [
        "# Evaluate the model on test data\n",
        "model.evaluate(X_test,y_test)"
      ],
      "metadata": {
        "colab": {
          "base_uri": "https://localhost:8080/"
        },
        "id": "QGbeAJ6pdLpP",
        "outputId": "d0029f2a-693d-4bba-f925-3e69949b747c"
      },
      "execution_count": 9,
      "outputs": [
        {
          "output_type": "stream",
          "name": "stdout",
          "text": [
            "313/313 [==============================] - 1s 3ms/step - loss: 0.3573 - accuracy: 0.8741\n"
          ]
        },
        {
          "output_type": "execute_result",
          "data": {
            "text/plain": [
              "[0.35729217529296875, 0.8741000294685364]"
            ]
          },
          "metadata": {},
          "execution_count": 9
        }
      ]
    }
  ]
}